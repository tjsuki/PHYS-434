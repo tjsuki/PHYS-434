{
 "cells": [
  {
   "cell_type": "markdown",
   "metadata": {},
   "source": [
    "# Lab 3"
   ]
  },
  {
   "cell_type": "code",
   "execution_count": 1,
   "metadata": {},
   "outputs": [],
   "source": [
    "%matplotlib inline\n",
    "import numpy as np\n",
    "import matplotlib\n",
    "import matplotlib.pyplot as plt\n",
    "import scipy\n",
    "from scipy import stats\n",
    "from scipy.stats import poisson\n",
    "from scipy.stats import norm\n",
    "\n",
    "\n",
    "#this sets the size of the plot to something useful\n",
    "#plt.rcParams[\"figure.figsize\"] = (20,15)"
   ]
  },
  {
   "cell_type": "markdown",
   "metadata": {},
   "source": [
    "## Problem 1"
   ]
  },
  {
   "cell_type": "code",
   "execution_count": 5,
   "metadata": {},
   "outputs": [
    {
     "data": {
      "text/plain": [
       "<matplotlib.legend.Legend at 0x1a12e4189c8>"
      ]
     },
     "execution_count": 5,
     "metadata": {},
     "output_type": "execute_result"
    },
    {
     "data": {
      "image/png": "[encoded data removed]",
      "text/plain": [
       "<Figure size 1080x576 with 1 Axes>"
      ]
     },
     "metadata": {
      "needs_background": "light"
     },
     "output_type": "display_data"
    }
   ],
   "source": [
    "goodData = norm.rvs(loc=12, scale=0.4, size=100000)\n",
    "badData = [10., 10.3, 2.1, 0., 0., 15.6, 22.3, 12.7]\n",
    "data = np.append(goodData, badData)\n",
    "\n",
    "\n",
    "plt.figure(figsize=(15,8))\n",
    "plt.hist(data, bins=100, density=True, histtype='bar', ec='black',\n",
    "         align='mid', color='rosybrown',\n",
    "         label='Simulated data with bad plots')\n",
    "\n",
    "\n",
    "\"\"\"print(ne\n",
    "hjkxzhkjfhisdahfweiorwe\n",
    "ndsufaiweuanwfwBadData)\n",
    "#print(len(newGoodData))\"\"\"\n",
    "\n",
    "x = np.linspace(0,24,1000)\n",
    "gauss = norm.pdf(x, 12, 0.4)\n",
    "\n",
    "plt.plot(x, gauss, 'k', color=\"green\", linewidth='2', label='Normal Distribution')\n",
    "plt.plot(badData, [0,0,0,0,0,0,0,0], 'bo', linewidth=2, label='Bad Plots')\n",
    "\n",
    "plt.title('Simulated Measurements of Temperature, mean=12, std. dev=0.4')\n",
    "plt.xlim(-1,23)\n",
    "plt.ylim(-0.1,1)\n",
    "plt.xlabel('Temperature (Kelvin)')\n",
    "plt.ylabel('Probability')\n",
    "plt.legend(loc=\"upper right\")"
   ]
  },
  {
   "cell_type": "markdown",
   "metadata": {},
   "source": [
    "We have a normally distributed dataset of 100,000 points, with a mean of 12 and a standard deviation of 0.4. However, 8 'bad' datapoints ([10., 10.3, 2.1, 0., 0., 15.6, 22.3, 12.7]) have been inserted in the dataset that are not from the signal. Which of these datapoints are at a significance of 5-sigma or greater? Remove these points from the current dataset."
   ]
  },
  {
   "cell_type": "code",
   "execution_count": 3,
   "metadata": {},
   "outputs": [
    {
     "ename": "KeyboardInterrupt",
     "evalue": "",
     "output_type": "error",
     "traceback": [
      "\u001b[1;31m---------------------------------------------------------------------------\u001b[0m",
      "\u001b[1;31mKeyboardInterrupt\u001b[0m                         Traceback (most recent call last)",
      "\u001b[1;32m<ipython-input-3-5cfccba1957e>\u001b[0m in \u001b[0;36m<module>\u001b[1;34m\u001b[0m\n\u001b[0;32m     16\u001b[0m \u001b[1;32mfor\u001b[0m \u001b[0mx\u001b[0m \u001b[1;32min\u001b[0m \u001b[0mgoodData\u001b[0m\u001b[1;33m:\u001b[0m \u001b[1;31m#go through all the elements in the original good dataset\u001b[0m\u001b[1;33m\u001b[0m\u001b[1;33m\u001b[0m\u001b[0m\n\u001b[0;32m     17\u001b[0m     \u001b[1;32mif\u001b[0m \u001b[0mx\u001b[0m \u001b[1;32min\u001b[0m \u001b[0mnewGoodData\u001b[0m\u001b[1;33m:\u001b[0m \u001b[1;31m#if the element is in the new good data set, add it to the correct good list.\u001b[0m\u001b[1;33m\u001b[0m\u001b[1;33m\u001b[0m\u001b[0m\n\u001b[1;32m---> 18\u001b[1;33m         \u001b[0mcorrGood\u001b[0m\u001b[1;33m.\u001b[0m\u001b[0mappend\u001b[0m\u001b[1;33m(\u001b[0m\u001b[0mx\u001b[0m\u001b[1;33m)\u001b[0m \u001b[1;31m#if not, add it to the wrong good list.\u001b[0m\u001b[1;33m\u001b[0m\u001b[1;33m\u001b[0m\u001b[0m\n\u001b[0m\u001b[0;32m     19\u001b[0m     \u001b[1;32melse\u001b[0m\u001b[1;33m:\u001b[0m\u001b[1;33m\u001b[0m\u001b[1;33m\u001b[0m\u001b[0m\n\u001b[0;32m     20\u001b[0m         \u001b[0mwrongGood\u001b[0m\u001b[1;33m.\u001b[0m\u001b[0mappend\u001b[0m\u001b[1;33m(\u001b[0m\u001b[0mx\u001b[0m\u001b[1;33m)\u001b[0m\u001b[1;33m\u001b[0m\u001b[1;33m\u001b[0m\u001b[0m\n",
      "\u001b[1;31mKeyboardInterrupt\u001b[0m: "
     ]
    }
   ],
   "source": [
    "newGoodData = [] #After the loop, ideally there should be 10000 points in this array\n",
    "newBadData = []  #After the loop, ideally there should be 8 points in this array\n",
    "fiveSigma = 0.4 * 5\n",
    "mean = stats.norm.mean(12, 0.4)\n",
    "for x in data:\n",
    "    if x >= mean + fiveSigma or x <= mean - fiveSigma:\n",
    "        newBadData.append(x)\n",
    "    else:\n",
    "        newGoodData.append(x)\n",
    "        \n",
    "\"\"\"print(newBadData)\n",
    "#print(len(newGoodData))\"\"\"\n",
    "\n",
    "corrGood = []\n",
    "wrongGood = []\n",
    "for x in goodData: #go through all the elements in the original good dataset\n",
    "    if x in newGoodData: #if the element is in the new good data set, add it to the correct good list.\n",
    "        corrGood.append(x) #if not, add it to the wrong good list.\n",
    "    else:\n",
    "        wrongGood.append(x)\n",
    "\n",
    "corrBad = []\n",
    "wrongBad = [] #similar as above loop, but for the bad data. See if the element in the original bad\n",
    "for x in badData:\n",
    "    if x in newBadData:\n",
    "        corrBad.append(x)\n",
    "    else:\n",
    "        wrongBad.append(x)\n",
    "\n",
    "print(wrongGood)\n",
    "print(corrBad)\n",
    "print(wrongBad)"
   ]
  },
  {
   "cell_type": "markdown",
   "metadata": {},
   "source": [
    "# Problem 2"
   ]
  },
  {
   "cell_type": "code",
   "execution_count": null,
   "metadata": {},
   "outputs": [],
   "source": [
    "#Use rayleigh distribution, perfect for this problem"
   ]
  },
  {
   "cell_type": "markdown",
   "metadata": {},
   "source": [
    "# Problem 3"
   ]
  },
  {
   "cell_type": "code",
   "execution_count": 4,
   "metadata": {},
   "outputs": [
    {
     "data": {
      "text/plain": [
       "5.850956323100652e-08"
      ]
     },
     "execution_count": 4,
     "metadata": {},
     "output_type": "execute_result"
    }
   ],
   "source": [
    "#poisson distribution\n",
    "#k= number of occurences within interval\n",
    "#mu = avg number of occurences within interval\n",
    "stats.poisson.pmf(6800, 7200)"
   ]
  },
  {
   "cell_type": "code",
   "execution_count": null,
   "metadata": {},
   "outputs": [],
   "source": []
  }
 ],
 "metadata": {
  "kernelspec": {
   "display_name": "Python 3",
   "language": "python",
   "name": "python3"
  },
  "language_info": {
   "codemirror_mode": {
    "name": "ipython",
    "version": 3
   },
   "file_extension": ".py",
   "mimetype": "text/x-python",
   "name": "python",
   "nbconvert_exporter": "python",
   "pygments_lexer": "ipython3",
   "version": "3.7.4"
  }
 },
 "nbformat": 4,
 "nbformat_minor": 2
}
