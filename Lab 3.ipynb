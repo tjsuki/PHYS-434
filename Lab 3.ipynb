{
 "cells": [
  {
   "cell_type": "markdown",
   "metadata": {},
   "source": [
    "# Lab 3"
   ]
  },
  {
   "cell_type": "code",
   "execution_count": 1,
   "metadata": {},
   "outputs": [],
   "source": [
    "%matplotlib inline\n",
    "import numpy as np\n",
    "import matplotlib\n",
    "import matplotlib.pyplot as plt\n",
    "import scipy\n",
    "from scipy import stats\n",
    "from scipy.stats import poisson\n",
    "from scipy.stats import norm\n",
    "\n",
    "\n",
    "#this sets the size of the plot to something useful\n",
    "#plt.rcParams[\"figure.figsize\"] = (20,15)"
   ]
  },
  {
   "cell_type": "markdown",
   "metadata": {},
   "source": [
    "## Problem 1"
   ]
  },
  {
   "cell_type": "code",
   "execution_count": 2,
   "metadata": {},
   "outputs": [
    {
     "data": {
      "text/plain": [
       "<Figure size 2160x2160 with 0 Axes>"
      ]
     },
     "execution_count": 2,
     "metadata": {},
     "output_type": "execute_result"
    },
    {
     "data": {
      "image/png": "[encoded data removed]",
      "text/plain": [
       "<Figure size 432x288 with 1 Axes>"
      ]
     },
     "metadata": {
      "needs_background": "light"
     },
     "output_type": "display_data"
    },
    {
     "data": {
      "text/plain": [
       "<Figure size 2160x2160 with 0 Axes>"
      ]
     },
     "metadata": {},
     "output_type": "display_data"
    }
   ],
   "source": [
    "goodData = norm.rvs(loc=12, scale=0.4, size=100000)\n",
    "badData = [10., 10.3, 2.1, 0., 0., 15.6, 22.3, 12.7]\n",
    "data = np.append(goodData, badData)\n",
    "fig, ax = plt.subplots(1, 1)\n",
    "\n",
    "\n",
    "ax.hist(data, bins=100, density=True, histtype='bar', ec='black',\n",
    "         align='mid', color='rosybrown')\n",
    "#fig, ax = plt.subplots(figsize = (13,7))\n",
    "\n",
    "x = np.linspace(8,16)\n",
    "gauss = norm.pdf(x, 12, 0.4)\n",
    "\n",
    "ax.plot(x, gauss, 'k', color=\"green\", linewidth='2')\n",
    "ax.plot(badData, [0,0,0,0,0,0,0,0], 'bo', linewidth=2)\n",
    "\n",
    "plt.xlim(-1,23)\n",
    "plt.ylim(0,1)\n",
    "plt.figure(figsize=(30,30))"
   ]
  },
  {
   "cell_type": "markdown",
   "metadata": {},
   "source": [
    "We have a normaly distributed dataset of 100,000 points, with a mean of 12 and a standard deviation of 0.4. However, 8 points ([10., 10.3, 2.1, 0., 0., 15.6, 22.3, 12.7]) have been inserted in the dataset that are not from the signal. How"
   ]
  },
  {
   "cell_type": "markdown",
   "metadata": {},
   "source": [
    "# Problem 2"
   ]
  },
  {
   "cell_type": "code",
   "execution_count": null,
   "metadata": {},
   "outputs": [],
   "source": []
  },
  {
   "cell_type": "markdown",
   "metadata": {},
   "source": [
    "# Problem 3"
   ]
  },
  {
   "cell_type": "code",
   "execution_count": null,
   "metadata": {},
   "outputs": [],
   "source": []
  }
 ],
 "metadata": {
  "kernelspec": {
   "display_name": "Python 3",
   "language": "python",
   "name": "python3"
  },
  "language_info": {
   "codemirror_mode": {
    "name": "ipython",
    "version": 3
   },
   "file_extension": ".py",
   "mimetype": "text/x-python",
   "name": "python",
   "nbconvert_exporter": "python",
   "pygments_lexer": "ipython3",
   "version": "3.7.3"
  }
 },
 "nbformat": 4,
 "nbformat_minor": 2
}
