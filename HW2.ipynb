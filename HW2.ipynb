{
 "cells": [
  {
   "cell_type": "code",
   "execution_count": 1,
   "metadata": {},
   "outputs": [],
   "source": [
    "#HW2\n",
    "%matplotlib inline\n",
    "import numpy as np\n",
    "import matplotlib\n",
    "import matplotlib.pyplot as plt\n",
    "import scipy\n",
    "from scipy import stats\n",
    "\n",
    "plt.rcParams[\"figure.figsize\"] = (20,15)"
   ]
  },
  {
   "cell_type": "code",
   "execution_count": 2,
   "metadata": {},
   "outputs": [
    {
     "data": {
      "text/plain": [
       "0.16666666666666666"
      ]
     },
     "execution_count": 2,
     "metadata": {},
     "output_type": "execute_result"
    }
   ],
   "source": [
    "#Problem 1\n",
    "\n",
    "#Snake eyes probability\n",
    "snakeEye = (1/6)*(1/6)\n",
    "\n",
    "#Sum 7 probability\n",
    "#(1,6),(2,5),(3,4),(4,3),(5,2),(6,1)\n",
    "#6 possibilities\n",
    "seven = 6/36\n",
    "\n",
    "snakeEye / seven"
   ]
  },
  {
   "cell_type": "code",
   "execution_count": 3,
   "metadata": {},
   "outputs": [
    {
     "name": "stdout",
     "output_type": "stream",
     "text": [
      "[0.02777778 0.05555556 0.08333333 0.11111111 0.13888889 0.16666667\n",
      " 0.13888889 0.11111111 0.08333333 0.05555556 0.02777778]\n"
     ]
    }
   ],
   "source": [
    "#Problem 2\n",
    "\n",
    "firstDice = [1/6, 1/6, 1/6, 1/6, 1/6, 1/6]\n",
    "secondDice = [1/6, 1/6, 1/6, 1/6, 1/6, 1/6]\n",
    "\n",
    "#Each index represents the sum of the dice for each probability.\n",
    "#The sum in this case is index+2, since there can be no sum\n",
    "#of 0 or 1. i.e 2.77% probability for a sum of 2, and 5.56% for a\n",
    "#sum of 3.\n",
    "probTwo = np.convolve(firstDice, secondDice)\n",
    "print(probTwo)"
   ]
  },
  {
   "cell_type": "code",
   "execution_count": 4,
   "metadata": {},
   "outputs": [
    {
     "name": "stdout",
     "output_type": "stream",
     "text": [
      "7.0\n",
      "5.833333333333334\n"
     ]
    }
   ],
   "source": [
    "#Problem 3, find the mean and variance from problem 2\n",
    "\n",
    "#Mean\n",
    "mean = 0\n",
    "val = 2\n",
    "for x in probTwo:\n",
    "    prod = val * x\n",
    "    mean += prod\n",
    "    val += 1\n",
    "print(mean)\n",
    "\n",
    "#Variance\n",
    "var = 0\n",
    "val = 2\n",
    "for x in probTwo:\n",
    "    var += ((val - mean)**2) * x\n",
    "    val += 1\n",
    "print(var)"
   ]
  },
  {
   "cell_type": "code",
   "execution_count": null,
   "metadata": {},
   "outputs": [],
   "source": []
  }
 ],
 "metadata": {
  "kernelspec": {
   "display_name": "Python 3",
   "language": "python",
   "name": "python3"
  },
  "language_info": {
   "codemirror_mode": {
    "name": "ipython",
    "version": 3
   },
   "file_extension": ".py",
   "mimetype": "text/x-python",
   "name": "python",
   "nbconvert_exporter": "python",
   "pygments_lexer": "ipython3",
   "version": "3.7.4"
  }
 },
 "nbformat": 4,
 "nbformat_minor": 2
}
