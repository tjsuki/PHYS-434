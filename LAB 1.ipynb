{
 "cells": [
  {
   "cell_type": "code",
   "execution_count": 1,
   "metadata": {},
   "outputs": [],
   "source": [
    "%matplotlib inline\n",
    "import numpy as np\n",
    "import matplotlib\n",
    "import matplotlib.pyplot as plt\n",
    "import scipy\n",
    "from scipy import stats\n",
    "\n",
    "plt.rcParams[\"figure.figsize\"] = (20,15)"
   ]
  },
  {
   "cell_type": "code",
   "execution_count": 2,
   "metadata": {},
   "outputs": [
    {
     "data": {
      "text/plain": [
       "0.5"
      ]
     },
     "execution_count": 2,
     "metadata": {},
     "output_type": "execute_result"
    }
   ],
   "source": [
    "stats.norm.cdf(0, loc = 0, scale = 1)\n",
    "#this should comeout to 0.5. The first variable\n",
    "#of the cdf function is the sigmavalue, so in this\n",
    "#case it is 0 (where the mean lies). loc determines\n",
    "#the mean, and scale determines the std. dev."
   ]
  },
  {
   "cell_type": "code",
   "execution_count": 3,
   "metadata": {},
   "outputs": [
    {
     "data": {
      "text/plain": [
       "0.8413447460685429"
      ]
     },
     "execution_count": 3,
     "metadata": {},
     "output_type": "execute_result"
    }
   ],
   "source": [
    "x = stats.norm.cdf(1, loc = 0, scale = 1)\n",
    "x\n",
    "#1 Std. Dev., comes out to 68% of distribution, sigma = 1"
   ]
  },
  {
   "cell_type": "code",
   "execution_count": 4,
   "metadata": {},
   "outputs": [
    {
     "data": {
      "text/plain": [
       "0.9772498680518208"
      ]
     },
     "execution_count": 4,
     "metadata": {},
     "output_type": "execute_result"
    }
   ],
   "source": [
    "y = stats.norm.cdf(2, loc = 0, scale = 1)\n",
    "y\n",
    "#2 std. dev., should come out to 95%, sigma = 2"
   ]
  },
  {
   "cell_type": "code",
   "execution_count": 5,
   "metadata": {},
   "outputs": [
    {
     "data": {
      "text/plain": [
       "0.9986501019683699"
      ]
     },
     "execution_count": 5,
     "metadata": {},
     "output_type": "execute_result"
    }
   ],
   "source": [
    "z = stats.norm.cdf(3, loc = 0, scale = 1)\n",
    "z\n",
    "#3 std. dev., should come out to 99.7%, sigma = 3"
   ]
  },
  {
   "cell_type": "code",
   "execution_count": 6,
   "metadata": {},
   "outputs": [
    {
     "data": {
      "text/plain": [
       "0.0"
      ]
     },
     "execution_count": 6,
     "metadata": {},
     "output_type": "execute_result"
    }
   ],
   "source": [
    "stats.norm.ppf(0.5, loc = 0, scale = 1)"
   ]
  },
  {
   "cell_type": "code",
   "execution_count": 7,
   "metadata": {},
   "outputs": [
    {
     "data": {
      "text/plain": [
       "1.0"
      ]
     },
     "execution_count": 7,
     "metadata": {},
     "output_type": "execute_result"
    }
   ],
   "source": [
    "stats.norm.ppf(x, loc = 0, scale = 1)"
   ]
  },
  {
   "cell_type": "code",
   "execution_count": 8,
   "metadata": {},
   "outputs": [
    {
     "data": {
      "text/plain": [
       "2.0000000000000004"
      ]
     },
     "execution_count": 8,
     "metadata": {},
     "output_type": "execute_result"
    }
   ],
   "source": [
    "stats.norm.ppf(y, loc = 0, scale = 1)"
   ]
  },
  {
   "cell_type": "code",
   "execution_count": 9,
   "metadata": {},
   "outputs": [
    {
     "data": {
      "text/plain": [
       "2.9999999999999982"
      ]
     },
     "execution_count": 9,
     "metadata": {},
     "output_type": "execute_result"
    }
   ],
   "source": [
    "stats.norm.ppf(z, loc = 0, scale = 1)"
   ]
  },
  {
   "cell_type": "code",
   "execution_count": 10,
   "metadata": {},
   "outputs": [],
   "source": [
    "###USE BIONOMIAL FOR NON-CONTINUOUS DISTRIBUTIONS"
   ]
  },
  {
   "cell_type": "code",
   "execution_count": 11,
   "metadata": {},
   "outputs": [],
   "source": [
    "d = stats.rayleigh.rvs(loc = 0, scale = 0.01, size = \n",
    "                      100000)"
   ]
  },
  {
   "cell_type": "code",
   "execution_count": 12,
   "metadata": {},
   "outputs": [
    {
     "data": {
      "image/png": "[encoded data removed]",
      "text/plain": [
       "<Figure size 432x288 with 1 Axes>"
      ]
     },
     "metadata": {
      "needs_background": "light"
     },
     "output_type": "display_data"
    }
   ],
   "source": [
    "fig, ax = plt.subplots(1, 1)\n",
    "ax.hist(d, 50, density = True)\n",
    "plt.tick_params(labelsize = 15)\n",
    "plt.xlim([-0.01, 0.05])\n",
    "x = np.linspace(-0.01, 0.05, 1000)\n",
    "ax.plot(x, stats.rayleigh.pdf(x, loc = 0, scale = 0.01),\n",
    "    linewidth = 3, alpha = 0.7)\n",
    "plt.show()"
   ]
  },
  {
   "cell_type": "code",
   "execution_count": 13,
   "metadata": {},
   "outputs": [],
   "source": [
    "#3a) What's the probability that the background produces \n",
    "#a signal from the background that is greater than a value\n",
    "#of 0.025"
   ]
  },
  {
   "cell_type": "code",
   "execution_count": 14,
   "metadata": {},
   "outputs": [
    {
     "data": {
      "text/plain": [
       "0.9560630663765926"
      ]
     },
     "execution_count": 14,
     "metadata": {},
     "output_type": "execute_result"
    }
   ],
   "source": [
    "prob = stats.rayleigh.cdf(0.025, loc = 0, scale = 0.01)\n",
    "prob"
   ]
  },
  {
   "cell_type": "code",
   "execution_count": 15,
   "metadata": {},
   "outputs": [],
   "source": [
    "presigma = stats.rayleigh.ppf(prob, loc = 0, scale = 0.01)"
   ]
  },
  {
   "cell_type": "code",
   "execution_count": 16,
   "metadata": {},
   "outputs": [
    {
     "data": {
      "text/plain": [
       "2.4999999999999996"
      ]
     },
     "execution_count": 16,
     "metadata": {},
     "output_type": "execute_result"
    }
   ],
   "source": [
    "sigma = presigma / 0.01\n",
    "sigma"
   ]
  },
  {
   "cell_type": "code",
   "execution_count": 17,
   "metadata": {},
   "outputs": [],
   "source": [
    "#Non-continuous distributions\n",
    "\n",
    "#10 'rolls' per trial, p = 0.5 (p is the\n",
    "#probability of a succesful trial)\n",
    "b = stats.binom.rvs(10, 0.5, loc = 0, size \n",
    "                       = 1000)"
   ]
  },
  {
   "cell_type": "code",
   "execution_count": 18,
   "metadata": {},
   "outputs": [
    {
     "data": {
      "image/png": "[encoded data removed]",
      "text/plain": [
       "<Figure size 432x288 with 1 Axes>"
      ]
     },
     "metadata": {
      "needs_background": "light"
     },
     "output_type": "display_data"
    }
   ],
   "source": [
    "fig, graph = plt.subplots(1, 1)\n",
    "graph.hist(b, 50, density = True)\n",
    "plt.tick_params(labelsize = 15)\n",
    "plt.xlim([0, 10])\n",
    "plt.show()"
   ]
  },
  {
   "cell_type": "code",
   "execution_count": 19,
   "metadata": {},
   "outputs": [],
   "source": [
    "#When the probability of success is 50%, the\n",
    "#distribution looks close to symmetrical. In\n",
    "#this case, the mode is 5 and the \"tails\" on\n",
    "#either side of 5 look even."
   ]
  },
  {
   "cell_type": "code",
   "execution_count": 20,
   "metadata": {
    "scrolled": false
   },
   "outputs": [
    {
     "data": {
      "image/png": "[encoded data removed]",
      "text/plain": [
       "<Figure size 432x288 with 1 Axes>"
      ]
     },
     "metadata": {
      "needs_background": "light"
     },
     "output_type": "display_data"
    }
   ],
   "source": [
    "#Now increase p = 0.7\n",
    "c = stats.binom.rvs(10, 0.7, loc = 0, size \n",
    "                       = 1000)\n",
    "\n",
    "fig, graph = plt.subplots(1, 1)\n",
    "graph.hist(c, 50, density = True)\n",
    "plt.tick_params(labelsize = 15)\n",
    "plt.xlim([2, 11])\n",
    "plt.show()"
   ]
  },
  {
   "cell_type": "code",
   "execution_count": 21,
   "metadata": {},
   "outputs": [],
   "source": [
    "#When the probability is above 50%, the\n",
    "#distribution becomes skewed to the left and\n",
    "#the mode became 7. "
   ]
  },
  {
   "cell_type": "code",
   "execution_count": 22,
   "metadata": {},
   "outputs": [
    {
     "data": {
      "text/plain": [
       "0.15026833260000008"
      ]
     },
     "execution_count": 22,
     "metadata": {},
     "output_type": "execute_result"
    }
   ],
   "source": [
    "#For this case, lets have the number of attempts represent\n",
    "#the number of ants we observe. For each ant, there is a\n",
    "#70% chance of the ant being red.\n",
    "#What would be the probability that the number of red ants\n",
    "#be 5?\n",
    "\n",
    "stats.binom.cdf(5, 10, 0.7)"
   ]
  },
  {
   "cell_type": "code",
   "execution_count": null,
   "metadata": {},
   "outputs": [],
   "source": [
    "#There is a 15% chance of observing 5 red ants out of a sample\n",
    "#of 10 ants."
   ]
  },
  {
   "cell_type": "code",
   "execution_count": 23,
   "metadata": {},
   "outputs": [
    {
     "data": {
      "image/png": "[encoded data removed]",
      "text/plain": [
       "<Figure size 432x288 with 1 Axes>"
      ]
     },
     "metadata": {
      "needs_background": "light"
     },
     "output_type": "display_data"
    }
   ],
   "source": [
    "#Now decrease p to 0.3\n",
    "d = stats.binom.rvs(10, 0.3, loc = 0, size \n",
    "                       = 1000)\n",
    "\n",
    "fig, graph = plt.subplots(1, 1)\n",
    "graph.hist(d, 50, density = True)\n",
    "plt.tick_params(labelsize = 15)\n",
    "plt.xlim([-1, 9])\n",
    "plt.show()"
   ]
  },
  {
   "cell_type": "code",
   "execution_count": 24,
   "metadata": {},
   "outputs": [],
   "source": [
    "#When the probability is less than 50%,\n",
    "#the distribution becomes skewed to the right.\n",
    "#And the mode becomes 3."
   ]
  },
  {
   "cell_type": "code",
   "execution_count": 25,
   "metadata": {},
   "outputs": [
    {
     "data": {
      "image/png": "[encoded data removed]",
      "text/plain": [
       "<Figure size 432x288 with 1 Axes>"
      ]
     },
     "metadata": {
      "needs_background": "light"
     },
     "output_type": "display_data"
    }
   ],
   "source": [
    "#Now we'll change the number of attempts per trial\n",
    "#This first one we'll increase the number of attempts\n",
    "#to 20\n",
    "e = stats.binom.rvs(20, 0.5, loc = 0, size \n",
    "                       = 1000)\n",
    "\n",
    "fig, graph = plt.subplots(1, 1)\n",
    "graph.hist(e, 50, density = True)\n",
    "plt.tick_params(labelsize = 10)\n",
    "plt.xlim([2, 18])\n",
    "plt.show()"
   ]
  },
  {
   "cell_type": "code",
   "execution_count": 26,
   "metadata": {},
   "outputs": [],
   "source": [
    "#When the number of attempts per trial is increase,\n",
    "#while keeping the probability at 50%, the distribution\n",
    "#looks somewhat even. However, depending on the set of data,\n",
    "#the mode can vary, where the peak of the graph can span\n",
    "#roughly between 9 and 11. Also, the distribution becomes\n",
    "#wider and spans a greater range of values"
   ]
  },
  {
   "cell_type": "code",
   "execution_count": 27,
   "metadata": {},
   "outputs": [
    {
     "data": {
      "image/png": "[encoded data removed]",
      "text/plain": [
       "<Figure size 432x288 with 1 Axes>"
      ]
     },
     "metadata": {
      "needs_background": "light"
     },
     "output_type": "display_data"
    }
   ],
   "source": [
    "#We'll decrease the number of attempts per trial\n",
    "#to 5.\n",
    "\n",
    "f = stats.binom.rvs(5, 0.5, loc = 0, size \n",
    "                       = 1000)\n",
    "\n",
    "fig, graph = plt.subplots(1, 1)\n",
    "graph.hist(f, 50, density = True)\n",
    "plt.tick_params(labelsize = 10)\n",
    "plt.xlim([-1, 6])\n",
    "plt.show()"
   ]
  },
  {
   "cell_type": "code",
   "execution_count": 28,
   "metadata": {},
   "outputs": [],
   "source": [
    "#When the number of attempts is decreased, while keeping\n",
    "#the probability at 50%, the distribution still looks \n",
    "#symmetrical. And the mode is 2 and/or 3. The range of\n",
    "#values has decreased to up to 5."
   ]
  },
  {
   "cell_type": "code",
   "execution_count": 29,
   "metadata": {},
   "outputs": [],
   "source": [
    "#Binomial distributions are discrete, meaning that the data\n",
    "#being presented is non-continuous. When we look at each of\n",
    "#graphs above, each value is an integer and not a floating\n",
    "#point. "
   ]
  }
 ],
 "metadata": {
  "kernelspec": {
   "display_name": "Python 3",
   "language": "python",
   "name": "python3"
  },
  "language_info": {
   "codemirror_mode": {
    "name": "ipython",
    "version": 3
   },
   "file_extension": ".py",
   "mimetype": "text/x-python",
   "name": "python",
   "nbconvert_exporter": "python",
   "pygments_lexer": "ipython3",
   "version": "3.7.4"
  }
 },
 "nbformat": 4,
 "nbformat_minor": 2
}
