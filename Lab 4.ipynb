{
 "cells": [
  {
   "cell_type": "code",
   "execution_count": 1,
   "metadata": {},
   "outputs": [],
   "source": [
    "%matplotlib inline\n",
    "import numpy as np\n",
    "import matplotlib\n",
    "import matplotlib.pyplot as plt\n",
    "import scipy\n",
    "from scipy import stats\n",
    "import h5py\n",
    "\n",
    "#this sets the size of the plot to something useful\n",
    "plt.rcParams[\"figure.figsize\"] = (20,15)"
   ]
  },
  {
   "cell_type": "code",
   "execution_count": 2,
   "metadata": {
    "scrolled": false
   },
   "outputs": [
    {
     "ename": "OSError",
     "evalue": "Unable to open file (unable to open file: name = 'gammaray_lab4.h5', errno = 2, error message = 'No such file or directory', flags = 0, o_flags = 0)",
     "output_type": "error",
     "traceback": [
      "\u001b[1;31m---------------------------------------------------------------------------\u001b[0m",
      "\u001b[1;31mOSError\u001b[0m                                   Traceback (most recent call last)",
      "\u001b[1;32m<ipython-input-2-04b70d2c16f5>\u001b[0m in \u001b[0;36m<module>\u001b[1;34m\u001b[0m\n\u001b[1;32m----> 1\u001b[1;33m \u001b[0mhf\u001b[0m \u001b[1;33m=\u001b[0m \u001b[0mh5py\u001b[0m\u001b[1;33m.\u001b[0m\u001b[0mFile\u001b[0m\u001b[1;33m(\u001b[0m\u001b[1;34m'gammaray_lab4.h5'\u001b[0m\u001b[1;33m,\u001b[0m \u001b[1;34m'r'\u001b[0m\u001b[1;33m)\u001b[0m\u001b[1;33m\u001b[0m\u001b[1;33m\u001b[0m\u001b[0m\n\u001b[0m",
      "\u001b[1;32m~\\Anaconda3\\lib\\site-packages\\h5py\\_hl\\files.py\u001b[0m in \u001b[0;36m__init__\u001b[1;34m(self, name, mode, driver, libver, userblock_size, swmr, rdcc_nslots, rdcc_nbytes, rdcc_w0, track_order, **kwds)\u001b[0m\n\u001b[0;32m    392\u001b[0m                 fid = make_fid(name, mode, userblock_size,\n\u001b[0;32m    393\u001b[0m                                \u001b[0mfapl\u001b[0m\u001b[1;33m,\u001b[0m \u001b[0mfcpl\u001b[0m\u001b[1;33m=\u001b[0m\u001b[0mmake_fcpl\u001b[0m\u001b[1;33m(\u001b[0m\u001b[0mtrack_order\u001b[0m\u001b[1;33m=\u001b[0m\u001b[0mtrack_order\u001b[0m\u001b[1;33m)\u001b[0m\u001b[1;33m,\u001b[0m\u001b[1;33m\u001b[0m\u001b[1;33m\u001b[0m\u001b[0m\n\u001b[1;32m--> 394\u001b[1;33m                                swmr=swmr)\n\u001b[0m\u001b[0;32m    395\u001b[0m \u001b[1;33m\u001b[0m\u001b[0m\n\u001b[0;32m    396\u001b[0m             \u001b[1;32mif\u001b[0m \u001b[0mswmr_support\u001b[0m\u001b[1;33m:\u001b[0m\u001b[1;33m\u001b[0m\u001b[1;33m\u001b[0m\u001b[0m\n",
      "\u001b[1;32m~\\Anaconda3\\lib\\site-packages\\h5py\\_hl\\files.py\u001b[0m in \u001b[0;36mmake_fid\u001b[1;34m(name, mode, userblock_size, fapl, fcpl, swmr)\u001b[0m\n\u001b[0;32m    168\u001b[0m         \u001b[1;32mif\u001b[0m \u001b[0mswmr\u001b[0m \u001b[1;32mand\u001b[0m \u001b[0mswmr_support\u001b[0m\u001b[1;33m:\u001b[0m\u001b[1;33m\u001b[0m\u001b[1;33m\u001b[0m\u001b[0m\n\u001b[0;32m    169\u001b[0m             \u001b[0mflags\u001b[0m \u001b[1;33m|=\u001b[0m \u001b[0mh5f\u001b[0m\u001b[1;33m.\u001b[0m\u001b[0mACC_SWMR_READ\u001b[0m\u001b[1;33m\u001b[0m\u001b[1;33m\u001b[0m\u001b[0m\n\u001b[1;32m--> 170\u001b[1;33m         \u001b[0mfid\u001b[0m \u001b[1;33m=\u001b[0m \u001b[0mh5f\u001b[0m\u001b[1;33m.\u001b[0m\u001b[0mopen\u001b[0m\u001b[1;33m(\u001b[0m\u001b[0mname\u001b[0m\u001b[1;33m,\u001b[0m \u001b[0mflags\u001b[0m\u001b[1;33m,\u001b[0m \u001b[0mfapl\u001b[0m\u001b[1;33m=\u001b[0m\u001b[0mfapl\u001b[0m\u001b[1;33m)\u001b[0m\u001b[1;33m\u001b[0m\u001b[1;33m\u001b[0m\u001b[0m\n\u001b[0m\u001b[0;32m    171\u001b[0m     \u001b[1;32melif\u001b[0m \u001b[0mmode\u001b[0m \u001b[1;33m==\u001b[0m \u001b[1;34m'r+'\u001b[0m\u001b[1;33m:\u001b[0m\u001b[1;33m\u001b[0m\u001b[1;33m\u001b[0m\u001b[0m\n\u001b[0;32m    172\u001b[0m         \u001b[0mfid\u001b[0m \u001b[1;33m=\u001b[0m \u001b[0mh5f\u001b[0m\u001b[1;33m.\u001b[0m\u001b[0mopen\u001b[0m\u001b[1;33m(\u001b[0m\u001b[0mname\u001b[0m\u001b[1;33m,\u001b[0m \u001b[0mh5f\u001b[0m\u001b[1;33m.\u001b[0m\u001b[0mACC_RDWR\u001b[0m\u001b[1;33m,\u001b[0m \u001b[0mfapl\u001b[0m\u001b[1;33m=\u001b[0m\u001b[0mfapl\u001b[0m\u001b[1;33m)\u001b[0m\u001b[1;33m\u001b[0m\u001b[1;33m\u001b[0m\u001b[0m\n",
      "\u001b[1;32mh5py\\_objects.pyx\u001b[0m in \u001b[0;36mh5py._objects.with_phil.wrapper\u001b[1;34m()\u001b[0m\n",
      "\u001b[1;32mh5py\\_objects.pyx\u001b[0m in \u001b[0;36mh5py._objects.with_phil.wrapper\u001b[1;34m()\u001b[0m\n",
      "\u001b[1;32mh5py\\h5f.pyx\u001b[0m in \u001b[0;36mh5py.h5f.open\u001b[1;34m()\u001b[0m\n",
      "\u001b[1;31mOSError\u001b[0m: Unable to open file (unable to open file: name = 'gammaray_lab4.h5', errno = 2, error message = 'No such file or directory', flags = 0, o_flags = 0)"
     ]
    }
   ],
   "source": [
    "hf = h5py.File('gammaray_lab4.h5', 'r')"
   ]
  },
  {
   "cell_type": "markdown",
   "metadata": {},
   "source": [
    "# Problem 2"
   ]
  },
  {
   "cell_type": "code",
   "execution_count": 4,
   "metadata": {},
   "outputs": [],
   "source": [
    "hf = h5py.File('images.h5', 'r')"
   ]
  },
  {
   "cell_type": "code",
   "execution_count": 13,
   "metadata": {},
   "outputs": [
    {
     "data": {
      "text/plain": [
       "<KeysViewHDF5 ['image1', 'imagestack']>"
      ]
     },
     "execution_count": 13,
     "metadata": {},
     "output_type": "execute_result"
    }
   ],
   "source": [
    "hf.keys()"
   ]
  },
  {
   "cell_type": "code",
   "execution_count": 14,
   "metadata": {},
   "outputs": [],
   "source": [
    "imagedata = np.array(hf.get('image1'))"
   ]
  },
  {
   "cell_type": "code",
   "execution_count": 20,
   "metadata": {},
   "outputs": [
    {
     "data": {
      "text/plain": [
       "array([ 1.51520831e-01, -2.76019854e-01,  1.56403304e-02,  2.62423997e-01,\n",
       "        6.45839434e-01, -8.56388191e-01, -4.05647194e-01, -2.83344490e-01,\n",
       "        6.62033546e-01, -8.65519974e-01,  1.26502368e-01,  4.89076765e-01,\n",
       "        6.41096765e-01, -5.00256091e-01, -1.41548165e-01, -9.69082493e-01,\n",
       "       -9.17128868e-01, -9.23477019e-01,  1.58858599e-01,  8.65066727e-01,\n",
       "       -6.94287702e-02,  2.49493226e-01, -1.36801371e-01, -2.83332788e-01,\n",
       "       -6.25849338e-01,  1.84601459e-01, -4.97316187e-01,  1.45561979e-01,\n",
       "       -1.16529863e+00, -1.09323962e+00, -6.27111569e-01,  3.49320231e-01,\n",
       "       -2.67015462e-01,  4.25431998e-01, -6.32133488e-01,  5.09868510e-03,\n",
       "       -1.66189503e-01,  2.15309025e-01,  2.53008904e-01,  3.09275811e-01,\n",
       "       -2.37746822e-01,  9.77392893e-02, -1.25485429e+00,  1.97841307e-01,\n",
       "        4.98261997e-01, -7.16383447e-01,  1.63413976e-01, -9.68002203e-02,\n",
       "        1.42213310e+00,  2.34633070e-01, -5.41363021e-01,  5.30676770e-03,\n",
       "        3.10231888e-01,  7.68079435e-01, -2.22220792e-01,  6.69523709e-01,\n",
       "       -7.08862836e-01,  4.91553082e-01,  1.60367392e-01, -1.50011779e-01,\n",
       "        3.61057578e-01,  3.55372563e-02, -8.22759566e-01,  2.41496524e-01,\n",
       "        4.77163707e-01, -5.90572312e-01, -2.19007594e-01, -5.50961631e-01,\n",
       "       -5.00029916e-02, -6.94153380e-02,  1.23944756e-01, -1.53190312e-01,\n",
       "       -2.35218033e-01,  6.35626160e-01, -3.24792646e-01,  1.66669215e-01,\n",
       "       -3.13054120e-02, -2.00058244e-01,  6.07559389e-01,  2.52927563e-01,\n",
       "        1.43314046e+00, -1.46671965e-01, -2.08813472e-03,  3.84697083e-01,\n",
       "       -4.24555219e-01, -4.74320463e-01,  3.46921928e-01,  1.09845687e-01,\n",
       "        9.05130069e-01,  4.91322251e-01, -6.91571078e-01, -7.85327656e-01,\n",
       "        4.22319914e-02,  5.12380414e-01,  1.27427844e+00,  2.70419390e-01,\n",
       "        1.84502109e-02,  7.05042985e-01, -1.76891410e-03,  4.09483810e-01,\n",
       "        3.73817029e-01,  8.98300640e-01,  1.51370253e+00,  1.47588451e-01,\n",
       "        6.27943182e-01,  1.24088119e-04, -1.53433245e-01,  1.13071959e+00,\n",
       "        1.24108863e-01, -7.03542263e-02,  4.22194810e-01, -6.29357454e-01,\n",
       "        1.05395543e+00,  7.84527999e-01,  1.33944481e-01,  1.12346766e-01,\n",
       "       -7.49207430e-01,  1.37652724e+00, -1.54871923e-02, -9.15591458e-01,\n",
       "        7.00692710e-01, -2.96872783e-01,  1.14397036e-01,  1.99268752e-01,\n",
       "       -8.94862435e-01,  4.53372050e-01, -3.42440382e-01, -3.34361326e-01,\n",
       "       -4.87354465e-01,  5.28454108e-02, -2.73472449e-01,  8.53292824e-01,\n",
       "       -8.15552219e-01, -7.74228591e-01,  4.99739233e-01,  8.89044646e-01,\n",
       "        4.30224406e-03, -9.63097751e-01,  6.50758749e-01,  6.12628828e-01,\n",
       "        6.19428718e-02,  2.63477229e-01, -1.22754240e+00,  7.80414089e-01,\n",
       "       -2.11474426e-03,  4.29851781e-01, -1.50535450e-02,  7.84493334e-01,\n",
       "        3.23547054e-01, -3.46603295e-01, -1.17585237e+00,  8.01738822e-02,\n",
       "        1.78759514e-01,  1.88934215e-02,  3.96552105e-01,  4.43612536e-01,\n",
       "        4.97308877e-01,  2.82233837e-01,  1.15251258e+00, -4.63818955e-01,\n",
       "       -6.16899110e-02, -1.79563756e-01, -9.45146658e-01,  2.68553314e-01,\n",
       "       -2.10304081e-01,  3.28389506e-01, -1.63281202e-01, -8.30939470e-02,\n",
       "        2.68823677e-01,  4.65685704e-01,  4.53476974e-01, -4.15373079e-01,\n",
       "        3.68861008e-01, -4.77115305e-01,  6.23104770e-01,  6.87408082e-01,\n",
       "        1.56042547e-01,  3.47141524e-01,  2.83911320e-01,  6.10579412e-01,\n",
       "       -3.49963765e-01,  2.32655147e-01,  1.10838010e+00,  3.96425238e-01,\n",
       "        1.89659093e-01,  8.32732003e-01,  8.64214277e-01, -1.16270494e+00,\n",
       "       -4.16868125e-01, -6.45876185e-01, -9.21674432e-01,  3.47279254e-01,\n",
       "       -6.64416635e-01,  6.71378001e-01, -6.64241738e-02,  2.62923482e-01,\n",
       "       -2.85253811e-01,  6.70642133e-01, -4.60911641e-01, -7.12382663e-01])"
      ]
     },
     "execution_count": 20,
     "metadata": {},
     "output_type": "execute_result"
    }
   ],
   "source": [
    "imagedata[:,12]"
   ]
  },
  {
   "cell_type": "code",
   "execution_count": 16,
   "metadata": {},
   "outputs": [
    {
     "data": {
      "text/plain": [
       "array([[-0.50492093,  0.24975188, -0.50405229, ..., -0.06210173,\n",
       "         1.19841096, -0.5545422 ],\n",
       "       [-0.25288444,  0.40016073, -0.30428969, ..., -0.44263445,\n",
       "         1.03162128,  0.09690978],\n",
       "       [ 0.82669501, -1.09598848, -1.15713748, ..., -0.00567957,\n",
       "        -0.50960113, -0.33764902],\n",
       "       ...,\n",
       "       [-0.04421337,  0.71172605,  0.68466424, ..., -0.73497945,\n",
       "        -1.59382711, -0.33156028],\n",
       "       [ 0.1371078 , -0.19467198, -0.54434798, ...,  0.52399453,\n",
       "         1.34490658,  0.08185939],\n",
       "       [-0.63545846, -0.4667434 , -0.44597592, ..., -1.0740504 ,\n",
       "        -0.67879436, -0.06260216]])"
      ]
     },
     "execution_count": 16,
     "metadata": {},
     "output_type": "execute_result"
    }
   ],
   "source": [
    "stackdata = np.array(hf.get('imagestack'))\n",
    "stackdata[:,0]"
   ]
  },
  {
   "cell_type": "code",
   "execution_count": null,
   "metadata": {},
   "outputs": [],
   "source": []
  },
  {
   "cell_type": "code",
   "execution_count": null,
   "metadata": {},
   "outputs": [],
   "source": []
  }
 ],
 "metadata": {
  "kernelspec": {
   "display_name": "Python 3",
   "language": "python",
   "name": "python3"
  },
  "language_info": {
   "codemirror_mode": {
    "name": "ipython",
    "version": 3
   },
   "file_extension": ".py",
   "mimetype": "text/x-python",
   "name": "python",
   "nbconvert_exporter": "python",
   "pygments_lexer": "ipython3",
   "version": "3.7.4"
  }
 },
 "nbformat": 4,
 "nbformat_minor": 2
}
